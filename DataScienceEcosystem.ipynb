{
 "cells": [
  {
   "cell_type": "markdown",
   "id": "9c971c17",
   "metadata": {},
   "source": [
    "# Data Science Tools and Ecosystem "
   ]
  },
  {
   "cell_type": "markdown",
   "id": "bc3c3d24",
   "metadata": {},
   "source": [
    "***In this notebook, I will summarise Data Science tools and the Ecosytems they operate in. While showing you everything I have learned so far***"
   ]
  },
  {
   "cell_type": "markdown",
   "id": "e5677125",
   "metadata": {},
   "source": [
    "*some of the most popular languages that data scientists use include:* \n",
    "\n",
    "1. R. A statistical programming language; used most by academics, healthcare and the government. \n",
    "2. Python. A powerhouse langauge; the syntax is easy to understand and can be used for machine learning, web development, etc. \n",
    "3. SQL. A language used for querying databases. Very useful and used by data analysists to organise, manipulate and analyse large amounts of data. \n",
    "4. Java. Used popularly in the enterprise space \n",
    "5. Julia. Is used for high preforming numerical analysis and computational science "
   ]
  },
  {
   "cell_type": "markdown",
   "id": "f60a127b",
   "metadata": {},
   "source": [
    "*some of the most popular libraries that data scientists use include:* \n",
    "\n",
    "1. python libraries: 1) Panda's for data cleaning, structuring and reframing. 2)  NumPY to apply equations. 3) Matplotlib is for plots and graphs. 4) SciKit is used for machine learning both regression and classification. \n",
    "2. R libraries: 1) ggplot2 for data visualisation. 2) caret for machine learning. 3) dplyr for data manipulation. 4) stringr for string manipulation. \n",
    "\n"
   ]
  },
  {
   "cell_type": "markdown",
   "id": "e3a823b3",
   "metadata": {},
   "source": [
    "### Data science tools \n",
    "\n",
    "|Data management|Data Visulaisation|Model Deployment| \n",
    "|---------------|------------------|----------------|\n",
    "|Couch DB|Apache Superset|PredictionIO| "
   ]
  },
  {
   "cell_type": "markdown",
   "id": "d57c375a",
   "metadata": {},
   "source": [
    "*some examples evaluating Arithmetic expressions in Python:* \n"
   ]
  },
  {
   "cell_type": "code",
   "execution_count": 1,
   "id": "c3bbf3b2",
   "metadata": {},
   "outputs": [
    {
     "data": {
      "text/plain": [
       "17"
      ]
     },
     "execution_count": 1,
     "metadata": {},
     "output_type": "execute_result"
    }
   ],
   "source": [
    "(3*4)+5 \n",
    "## this is a simple arithmetic expression to multiply then add integers "
   ]
  },
  {
   "cell_type": "code",
   "execution_count": 2,
   "id": "315e04af",
   "metadata": {},
   "outputs": [
    {
     "data": {
      "text/plain": [
       "3.3333333333333335"
      ]
     },
     "execution_count": 2,
     "metadata": {},
     "output_type": "execute_result"
    }
   ],
   "source": [
    "(200/60)\n",
    "## this will convert 200 minutes into hours "
   ]
  },
  {
   "cell_type": "markdown",
   "id": "074e7039",
   "metadata": {},
   "source": [
    "*Objectives:* \n",
    "- list of popular data science languages \n",
    "- list of popular data science libraries \n",
    "- table indicated data science tools and their uses \n",
    "- arithmetic expression evaluating the multiplication and addition of integers \n",
    "- arithmetic expression evaluating converting minutes into hours "
   ]
  },
  {
   "cell_type": "markdown",
   "id": "043d486a",
   "metadata": {},
   "source": [
    "## Author \n",
    "Riada Carney-Slee \n"
   ]
  }
 ],
 "metadata": {
  "kernelspec": {
   "display_name": "Python 3 (ipykernel)",
   "language": "python",
   "name": "python3"
  },
  "language_info": {
   "codemirror_mode": {
    "name": "ipython",
    "version": 3
   },
   "file_extension": ".py",
   "mimetype": "text/x-python",
   "name": "python",
   "nbconvert_exporter": "python",
   "pygments_lexer": "ipython3",
   "version": "3.10.9"
  }
 },
 "nbformat": 4,
 "nbformat_minor": 5
}
